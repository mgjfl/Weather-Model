{
 "cells": [
  {
   "cell_type": "code",
   "execution_count": 1,
   "metadata": {},
   "outputs": [],
   "source": [
    "from neuralop.models import FNO \n",
    "import sys\n",
    "import os\n",
    "sys.path.append(os.path.abspath(\"..\"))\n",
    "from Models.neural_models import *\n",
    "from Data import *\n",
    "from torch.utils.data import DataLoader"
   ]
  },
  {
   "cell_type": "markdown",
   "metadata": {},
   "source": [
    "Torch Set-Up"
   ]
  },
  {
   "cell_type": "code",
   "execution_count": 2,
   "metadata": {},
   "outputs": [
    {
     "name": "stdout",
     "output_type": "stream",
     "text": [
      "Using cuda device\n"
     ]
    }
   ],
   "source": [
    "device = (\n",
    "    \"cuda\"\n",
    "    if torch.cuda.is_available()\n",
    "    else \"mps\"\n",
    "    if torch.backends.mps.is_available()\n",
    "    else \"cpu\"\n",
    ")\n",
    "print(f\"Using {device} device\")"
   ]
  },
  {
   "cell_type": "markdown",
   "metadata": {},
   "source": [
    "Create Dataset"
   ]
  },
  {
   "cell_type": "code",
   "execution_count": 3,
   "metadata": {},
   "outputs": [],
   "source": [
    "# Weather parameters\n",
    "w = 3\n",
    "d = 5\n",
    "n = 1_000\n",
    "\n",
    "# Select a Probabilistic Model and generate the dataset\n",
    "prob_model = GaussianData(d, w)\n",
    "observations = prob_model.generate(n)\n",
    "dataset = NextDayForecastDataset(observations).to(device)\n",
    "\n",
    "# Constants\n",
    "in_channels = dataset.in_channels"
   ]
  },
  {
   "cell_type": "markdown",
   "metadata": {},
   "source": [
    "Create Probabilistic Neural Network"
   ]
  },
  {
   "cell_type": "code",
   "execution_count": 4,
   "metadata": {},
   "outputs": [],
   "source": [
    "ACW_FNO = PNN(probabilistic_model = prob_model, \n",
    "              model_class = FNO, \n",
    "              in_channels = in_channels, \n",
    "              hidden_channels = 3, \n",
    "              out_channels = 3,\n",
    "              n_modes = (16, 16),\n",
    "              grid_shape = dataset.get_input_shape())\n",
    "\n",
    "# ACW_FNO.use_linear_projection(dataset.get_input_shape(), prob_model.parameter_count)\n",
    "model = ACW_FNO.to(device)"
   ]
  },
  {
   "cell_type": "code",
   "execution_count": 5,
   "metadata": {},
   "outputs": [
    {
     "name": "stdout",
     "output_type": "stream",
     "text": [
      "Linear(in_features=9, out_features=135, bias=True)\n"
     ]
    }
   ],
   "source": [
    "print(model.project)"
   ]
  },
  {
   "cell_type": "markdown",
   "metadata": {},
   "source": [
    "Training Parameters"
   ]
  },
  {
   "cell_type": "code",
   "execution_count": 6,
   "metadata": {},
   "outputs": [],
   "source": [
    "learning_rate   = 1e-5\n",
    "batch_size      = 64\n",
    "EPOCHS          = 10\n",
    "loss_fn         = NLLLoss(prob_model)\n",
    "optimizer       = torch.optim.Adam(model.parameters(), lr = learning_rate)"
   ]
  },
  {
   "cell_type": "markdown",
   "metadata": {},
   "source": [
    "Create DataLoaders"
   ]
  },
  {
   "cell_type": "code",
   "execution_count": 7,
   "metadata": {},
   "outputs": [],
   "source": [
    "# Train / test split\n",
    "train_dataset, test_dataset = torch.utils.data.random_split(dataset, [0.8, 0.2])\n",
    "train_dataloader = DataLoader(train_dataset, batch_size=batch_size, shuffle=True)\n",
    "test_dataloader = DataLoader(test_dataset, batch_size=batch_size, shuffle=True)"
   ]
  },
  {
   "cell_type": "markdown",
   "metadata": {},
   "source": [
    "Define loops"
   ]
  },
  {
   "cell_type": "code",
   "execution_count": 8,
   "metadata": {},
   "outputs": [],
   "source": [
    "def train_loop(dataloader, model, loss_fn, optimizer):\n",
    "    size = len(dataloader.dataset)\n",
    "    # Set the model to training mode - important for batch normalization and dropout layers\n",
    "    # Unnecessary in this situation but added for best practices\n",
    "    model.train()\n",
    "    for batch, (X, y) in enumerate(dataloader):\n",
    "        # Compute prediction and loss\n",
    "        pred = model(X)\n",
    "        loss = loss_fn(pred, y)\n",
    "        # print(f\"Batch {batch:>3} : loss = {loss.item():>7f}\")\n",
    "\n",
    "        # Backpropagation\n",
    "        loss.backward()\n",
    "        optimizer.step()\n",
    "        optimizer.zero_grad()\n",
    "\n",
    "        if batch % 100 == 0:\n",
    "            loss, current = loss.item(), batch * batch_size + len(X)\n",
    "            print(f\"loss: {loss:>7f}  [{current:>5d}/{size:>5d}]\")\n",
    "\n",
    "\n",
    "def test_loop(dataloader, model, loss_fn):\n",
    "    # Set the model to evaluation mode - important for batch normalization and dropout layers\n",
    "    # Unnecessary in this situation but added for best practices\n",
    "    model.eval()\n",
    "    num_batches = len(dataloader)\n",
    "    test_loss = 0\n",
    "\n",
    "    # Evaluating the model with torch.no_grad() ensures that no gradients are computed during test mode\n",
    "    # also serves to reduce unnecessary gradient computations and memory usage for tensors with requires_grad=True\n",
    "    with torch.no_grad():\n",
    "        for X, y in dataloader:\n",
    "            pred = model(X)\n",
    "            test_loss += loss_fn(pred, y).item()\n",
    "\n",
    "    test_loss /= num_batches\n",
    "    print(f\"Test Error: \\n Avg loss: {test_loss:>8f} \\n\")"
   ]
  },
  {
   "cell_type": "markdown",
   "metadata": {},
   "source": [
    "Train the Model"
   ]
  },
  {
   "cell_type": "code",
   "execution_count": 9,
   "metadata": {},
   "outputs": [
    {
     "name": "stdout",
     "output_type": "stream",
     "text": [
      "Epoch 1\n",
      "-------------------------------\n",
      "loss: 16680.964844  [   64/  800]\n",
      "Test Error: \n",
      " Avg loss: 11558.456787 \n",
      "\n",
      "Epoch 2\n",
      "-------------------------------\n",
      "loss: 13502.725586  [   64/  800]\n",
      "Test Error: \n",
      " Avg loss: 9416.381470 \n",
      "\n",
      "Epoch 3\n",
      "-------------------------------\n",
      "loss: 10724.991211  [   64/  800]\n",
      "Test Error: \n",
      " Avg loss: 8334.911499 \n",
      "\n",
      "Epoch 4\n",
      "-------------------------------\n",
      "loss: 8663.058594  [   64/  800]\n",
      "Test Error: \n",
      " Avg loss: 7797.795776 \n",
      "\n",
      "Epoch 5\n",
      "-------------------------------\n",
      "loss: 8266.564453  [   64/  800]\n",
      "Test Error: \n",
      " Avg loss: 6591.880737 \n",
      "\n",
      "Epoch 6\n",
      "-------------------------------\n",
      "loss: 7161.727051  [   64/  800]\n",
      "Test Error: \n",
      " Avg loss: 6201.647095 \n",
      "\n",
      "Epoch 7\n",
      "-------------------------------\n",
      "loss: 6476.707520  [   64/  800]\n",
      "Test Error: \n",
      " Avg loss: 5174.783936 \n",
      "\n",
      "Epoch 8\n",
      "-------------------------------\n",
      "loss: 6251.520996  [   64/  800]\n",
      "Test Error: \n",
      " Avg loss: 5500.348145 \n",
      "\n",
      "Epoch 9\n",
      "-------------------------------\n",
      "loss: 4945.094727  [   64/  800]\n",
      "Test Error: \n",
      " Avg loss: 5032.407104 \n",
      "\n",
      "Epoch 10\n",
      "-------------------------------\n",
      "loss: 4576.485352  [   64/  800]\n",
      "Test Error: \n",
      " Avg loss: 4708.400757 \n",
      "\n",
      "Done!\n"
     ]
    }
   ],
   "source": [
    "for t in range(EPOCHS):\n",
    "    print(f\"Epoch {t+1}\\n-------------------------------\")\n",
    "    train_loop(train_dataloader, model, loss_fn, optimizer)\n",
    "    test_loop(test_dataloader, model, loss_fn)\n",
    "print(\"Done!\")"
   ]
  }
 ],
 "metadata": {
  "kernelspec": {
   "display_name": "nop",
   "language": "python",
   "name": "python3"
  },
  "language_info": {
   "codemirror_mode": {
    "name": "ipython",
    "version": 3
   },
   "file_extension": ".py",
   "mimetype": "text/x-python",
   "name": "python",
   "nbconvert_exporter": "python",
   "pygments_lexer": "ipython3",
   "version": "3.10.15"
  }
 },
 "nbformat": 4,
 "nbformat_minor": 2
}
